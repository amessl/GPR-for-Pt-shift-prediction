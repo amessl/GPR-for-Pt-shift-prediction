{
 "cells": [
  {
   "cell_type": "code",
   "metadata": {
    "collapsed": true
   },
   "source": [
    "from hydra import initialize, compose\n",
    "from src.predict_sklearn import SklearnGPRegressor\n",
    "\n",
    "# Model configs can be changed in .yaml files in ../conf or in the code as shown below\n",
    "with initialize(config_path=\"../conf\", version_base=\"1.1\"):\n",
    "    cfg = compose(config_name=\"config\")\n"
   ],
   "outputs": [],
   "execution_count": null
  },
  {
   "cell_type": "code",
   "source": [
    "# ChEAP model\n",
    "\n",
    "cfg.representations.rep = \"ChEAP\"\n",
    "cfg.zeta = 2  # Kernel degree (default is 2, override in this line)\n",
    "cfg.report = \"full\"  # Only errors are displayed (report=\"full\" for learning curves and parity plots)\n",
    "\n",
    "model = SklearnGPRegressor(config=cfg)\n",
    "\n",
    "model.gpr_train(**cfg.backend.training, report=cfg.report) # Train model\n",
    "model.gpr_test(**cfg.backend.testing, report=cfg.report); # Test trained model on holdout set"
   ],
   "metadata": {
    "collapsed": false
   },
   "outputs": [],
   "execution_count": null
  },
  {
   "cell_type": "code",
   "source": [
    "# GAPE model\n",
    "\n",
    "cfg.representations.rep = \"GAPE\"\n",
    "cfg.zeta = 2  # Kernel degree (default is 2, override in this line)\n",
    "cfg.report = \"full\"  # Only errors are displayed (report=\"full\" for learning curves and parity plots)\n",
    "\n",
    "model = SklearnGPRegressor(config=cfg)\n",
    "\n",
    "model.gpr_train(**cfg.backend.training, report=cfg.report) # Train model\n",
    "model.gpr_test(**cfg.backend.testing, report=cfg.report); # Test trained model on holdout set"
   ],
   "metadata": {
    "collapsed": false
   },
   "outputs": [],
   "execution_count": null
  },
  {
   "cell_type": "code",
   "source": [
    "# SOAP model\n",
    "\n",
    "cfg.representations.rep = \"SOAP\"\n",
    "cfg.zeta = 2  # Kernel degree (default is 2, override in this line)\n",
    "cfg.report = \"full\"  # Only errors are displayed (report=\"full\" for learning curves and parity plots)\n",
    "\n",
    "model = SklearnGPRegressor(config=cfg)\n",
    "\n",
    "model.gpr_train(**cfg.backend.training, report=cfg.report) # Train model\n",
    "model.gpr_test(**cfg.backend.testing, report=cfg.report); # Test trained model on holdout set"
   ],
   "metadata": {
    "collapsed": false
   },
   "outputs": [],
   "execution_count": null
  },
  {
   "metadata": {},
   "cell_type": "code",
   "source": "",
   "outputs": [],
   "execution_count": null
  }
 ],
 "metadata": {
  "kernelspec": {
   "display_name": "Python 3",
   "language": "python",
   "name": "python3"
  },
  "language_info": {
   "codemirror_mode": {
    "name": "ipython",
    "version": 2
   },
   "file_extension": ".py",
   "mimetype": "text/x-python",
   "name": "python",
   "nbconvert_exporter": "python",
   "pygments_lexer": "ipython2",
   "version": "2.7.6"
  }
 },
 "nbformat": 4,
 "nbformat_minor": 0
}
