{
 "cells": [
  {
   "cell_type": "code",
   "execution_count": 1,
   "metadata": {
    "collapsed": true,
    "ExecuteTime": {
     "end_time": "2024-08-14T20:04:03.678201349Z",
     "start_time": "2024-08-14T20:04:02.889471860Z"
    }
   },
   "outputs": [],
   "source": [
    "from NMR_predict import GPR_NMR"
   ]
  },
  {
   "cell_type": "markdown",
   "source": [],
   "metadata": {
    "collapsed": false
   }
  },
  {
   "cell_type": "code",
   "execution_count": 2,
   "outputs": [],
   "source": [
    "# Define path to xyz files and path to SOAP files\n",
    "XYZ_directory = '/home/alex/Pt_NMR/data/structures/'\n",
    "SOAP_directory = '/home/alex/Pt_NMR/data/representations/SOAP/'\n",
    "\n",
    "# Define list of SOAP params [r_cut, n_max, l_max]\n",
    "params = [2.0, 3, 7]\n",
    "\n",
    "# Create instance of GPR_NMR class\n",
    "pt_gpr = GPR_NMR(descriptor_path=SOAP_directory, descriptor_type='SOAP',\n",
    "                 descriptor_params=params, central_atom='Pt', mode ='read', xyz_path=XYZ_directory, xyz_base='st_')\n"
   ],
   "metadata": {
    "collapsed": false,
    "ExecuteTime": {
     "end_time": "2024-08-14T20:01:45.306088869Z",
     "start_time": "2024-08-14T20:01:45.304004818Z"
    }
   }
  },
  {
   "cell_type": "code",
   "execution_count": 4,
   "outputs": [
    {
     "name": "stdout",
     "output_type": "stream",
     "text": [
      "Descriptor files read: 298 \n",
      "Average size: 92.938 kB \n",
      "\n",
      "Dimensions of design matrix: (298, 11880)\n"
     ]
    },
    {
     "ename": "AttributeError",
     "evalue": "'GaussianProcessRegressor' object has no attribute 'kernel_'",
     "output_type": "error",
     "traceback": [
      "\u001B[0;31m---------------------------------------------------------------------------\u001B[0m",
      "\u001B[0;31mAttributeError\u001B[0m                            Traceback (most recent call last)",
      "Cell \u001B[0;32mIn[4], line 6\u001B[0m\n\u001B[1;32m      3\u001B[0m target_path \u001B[38;5;241m=\u001B[39m \u001B[38;5;124m'\u001B[39m\u001B[38;5;124m/home/alex/Pt_NMR/data/labels/final_data_corrected\u001B[39m\u001B[38;5;124m'\u001B[39m\n\u001B[1;32m      5\u001B[0m \u001B[38;5;66;03m# Use predict function for GPR and obtaining CV prediction errors\u001B[39;00m\n\u001B[0;32m----> 6\u001B[0m errors_std \u001B[38;5;241m=\u001B[39m \u001B[43mpt_gpr\u001B[49m\u001B[38;5;241;43m.\u001B[39;49m\u001B[43mGPR_predict\u001B[49m\u001B[43m(\u001B[49m\u001B[43mkernel_degree\u001B[49m\u001B[38;5;241;43m=\u001B[39;49m\u001B[38;5;241;43m2\u001B[39;49m\u001B[43m,\u001B[49m\n\u001B[1;32m      7\u001B[0m \u001B[43m                            \u001B[49m\u001B[43mtarget_path\u001B[49m\u001B[38;5;241;43m=\u001B[39;49m\u001B[43mtarget_path\u001B[49m\u001B[43m,\u001B[49m\u001B[43m \u001B[49m\u001B[43mtarget_name\u001B[49m\u001B[38;5;241;43m=\u001B[39;49m\u001B[43mtarget_name\u001B[49m\u001B[43m,\u001B[49m\n\u001B[1;32m      8\u001B[0m \u001B[43m                            \u001B[49m\u001B[43mnormalize\u001B[49m\u001B[38;5;241;43m=\u001B[39;49m\u001B[38;5;28;43;01mTrue\u001B[39;49;00m\u001B[43m,\u001B[49m\u001B[43m \u001B[49m\u001B[43mnoise\u001B[49m\u001B[38;5;241;43m=\u001B[39;49m\u001B[38;5;241;43m1.0\u001B[39;49m\u001B[43m,\u001B[49m\u001B[43m \u001B[49m\u001B[43mparity_plot\u001B[49m\u001B[38;5;241;43m=\u001B[39;49m\u001B[38;5;28;43;01mTrue\u001B[39;49;00m\u001B[43m,\u001B[49m\u001B[43m \u001B[49m\u001B[43mnoise_estim\u001B[49m\u001B[38;5;241;43m=\u001B[39;49m\u001B[38;5;28;43;01mTrue\u001B[39;49;00m\u001B[43m)\u001B[49m\n\u001B[1;32m     10\u001B[0m \u001B[38;5;28mprint\u001B[39m(errors_std)\n",
      "File \u001B[0;32m~/Pt_NMR/code/NMR_predict.py:136\u001B[0m, in \u001B[0;36mGPR_NMR.GPR_predict\u001B[0;34m(self, kernel_degree, target_path, target_name, normalize, noise, lc, parity_plot, lml, noise_estim)\u001B[0m\n\u001B[1;32m    131\u001B[0m \u001B[38;5;28;01mif\u001B[39;00m noise_estim:\n\u001B[1;32m    132\u001B[0m     estimator \u001B[38;5;241m=\u001B[39m GaussianProcessRegressor(kernel\u001B[38;5;241m=\u001B[39mExponentiation(DotProduct(), \u001B[38;5;28mint\u001B[39m(kernel_degree) ) \u001B[38;5;241m+\u001B[39m WhiteKernel(noise_level\u001B[38;5;241m=\u001B[39mnoise),\n\u001B[1;32m    133\u001B[0m                                          random_state\u001B[38;5;241m=\u001B[39mrandomSeed,\n\u001B[1;32m    134\u001B[0m                                          alpha\u001B[38;5;241m=\u001B[39m\u001B[38;5;241m0.0\u001B[39m, n_restarts_optimizer\u001B[38;5;241m=\u001B[39m\u001B[38;5;241m10\u001B[39m)\n\u001B[0;32m--> 136\u001B[0m     \u001B[38;5;28mprint\u001B[39m(\u001B[38;5;124mf\u001B[39m\u001B[38;5;124m'\u001B[39m\u001B[38;5;124mOptimized noise level: \u001B[39m\u001B[38;5;132;01m{\u001B[39;00mestimator\u001B[38;5;241m.\u001B[39mkernel_\u001B[38;5;241m.\u001B[39mk2\u001B[38;5;241m.\u001B[39mget_params([\u001B[38;5;124m\"\u001B[39m\u001B[38;5;124mnoise_level\u001B[39m\u001B[38;5;124m\"\u001B[39m])\u001B[38;5;132;01m}\u001B[39;00m\u001B[38;5;124m'\u001B[39m)\n\u001B[1;32m    138\u001B[0m \u001B[38;5;28;01melse\u001B[39;00m:\n\u001B[1;32m    139\u001B[0m     estimator \u001B[38;5;241m=\u001B[39m GaussianProcessRegressor(kernel\u001B[38;5;241m=\u001B[39mDotProduct(), random_state\u001B[38;5;241m=\u001B[39mrandomSeed,alpha\u001B[38;5;241m=\u001B[39m\u001B[38;5;28mfloat\u001B[39m(noise),\n\u001B[1;32m    140\u001B[0m                                          optimizer\u001B[38;5;241m=\u001B[39m\u001B[38;5;28;01mNone\u001B[39;00m)\n",
      "\u001B[0;31mAttributeError\u001B[0m: 'GaussianProcessRegressor' object has no attribute 'kernel_'"
     ]
    }
   ],
   "source": [
    "# Define path and column name of the csv where labels (targets) are stored\n",
    "target_name = 'Experimental'\n",
    "target_path = '/home/alex/Pt_NMR/data/labels/final_data_corrected'\n",
    "\n",
    "# Use predict function for GPR and obtaining CV prediction errors\n",
    "errors_std = pt_gpr.GPR_predict(kernel_degree=2,\n",
    "                            target_path=target_path, target_name=target_name,\n",
    "                            normalize=True, noise=1.0, parity_plot=True, noise_estim=True)\n",
    "\n",
    "print(errors_std)"
   ],
   "metadata": {
    "collapsed": false,
    "ExecuteTime": {
     "end_time": "2024-08-14T20:01:56.715145623Z",
     "start_time": "2024-08-14T20:01:56.603064652Z"
    }
   }
  },
  {
   "cell_type": "code",
   "execution_count": 2,
   "outputs": [],
   "source": [
    "XYZ_directory = '/home/alex/Pt_NMR/data/structures/'\n",
    "SOAP_directory = '/home/alex/Pt_NMR/data/representations/APE_RF/'\n",
    "\n",
    "# Define list of SOAP params [r_cut, n_max, l_max]\n",
    "params = [3.0, 1000]\n",
    "\n",
    "# Create instance of GPR_NMR class\n",
    "pt_gpr = GPR_NMR(descriptor_path=SOAP_directory, descriptor_type='APE_RF',\n",
    "                 descriptor_params=params, central_atom='Pt', mode ='read', xyz_path=XYZ_directory, xyz_base='st_')"
   ],
   "metadata": {
    "collapsed": false,
    "ExecuteTime": {
     "end_time": "2024-08-14T20:04:07.663427172Z",
     "start_time": "2024-08-14T20:04:07.660993657Z"
    }
   }
  },
  {
   "cell_type": "code",
   "execution_count": 3,
   "outputs": [
    {
     "name": "stdout",
     "output_type": "stream",
     "text": [
      "Descriptor files read: 298 \n",
      "Average size: 7.938 kB \n",
      "\n",
      "Dimensions of design matrix: (298, 1000)\n",
      "Optimized noise level: {'noise_level': 1.0, 'noise_level_bounds': (1e-05, 100000.0)}\n"
     ]
    },
    {
     "name": "stderr",
     "output_type": "stream",
     "text": [
      "/home/alex/anaconda3/envs/Pt_NMR/lib/python3.10/site-packages/sklearn/gaussian_process/_gpr.py:659: ConvergenceWarning: lbfgs failed to converge (status=2):\n",
      "ABNORMAL_TERMINATION_IN_LNSRCH.\n",
      "\n",
      "Increase the number of iterations (max_iter) or scale the data as shown in:\n",
      "    https://scikit-learn.org/stable/modules/preprocessing.html\n",
      "  _check_optimize_result(\"lbfgs\", opt_res)\n",
      "/home/alex/anaconda3/envs/Pt_NMR/lib/python3.10/site-packages/sklearn/gaussian_process/_gpr.py:659: ConvergenceWarning: lbfgs failed to converge (status=2):\n",
      "ABNORMAL_TERMINATION_IN_LNSRCH.\n",
      "\n",
      "Increase the number of iterations (max_iter) or scale the data as shown in:\n",
      "    https://scikit-learn.org/stable/modules/preprocessing.html\n",
      "  _check_optimize_result(\"lbfgs\", opt_res)\n",
      "/home/alex/anaconda3/envs/Pt_NMR/lib/python3.10/site-packages/sklearn/gaussian_process/_gpr.py:659: ConvergenceWarning: lbfgs failed to converge (status=2):\n",
      "ABNORMAL_TERMINATION_IN_LNSRCH.\n",
      "\n",
      "Increase the number of iterations (max_iter) or scale the data as shown in:\n",
      "    https://scikit-learn.org/stable/modules/preprocessing.html\n",
      "  _check_optimize_result(\"lbfgs\", opt_res)\n",
      "/home/alex/anaconda3/envs/Pt_NMR/lib/python3.10/site-packages/sklearn/gaussian_process/_gpr.py:659: ConvergenceWarning: lbfgs failed to converge (status=2):\n",
      "ABNORMAL_TERMINATION_IN_LNSRCH.\n",
      "\n",
      "Increase the number of iterations (max_iter) or scale the data as shown in:\n",
      "    https://scikit-learn.org/stable/modules/preprocessing.html\n",
      "  _check_optimize_result(\"lbfgs\", opt_res)\n",
      "/home/alex/anaconda3/envs/Pt_NMR/lib/python3.10/site-packages/sklearn/gaussian_process/_gpr.py:659: ConvergenceWarning: lbfgs failed to converge (status=2):\n",
      "ABNORMAL_TERMINATION_IN_LNSRCH.\n",
      "\n",
      "Increase the number of iterations (max_iter) or scale the data as shown in:\n",
      "    https://scikit-learn.org/stable/modules/preprocessing.html\n",
      "  _check_optimize_result(\"lbfgs\", opt_res)\n"
     ]
    },
    {
     "name": "stdout",
     "output_type": "stream",
     "text": [
      "RMSE (4-fold CV): 266.3190632429015 [ppm] 7.554692116695008 [ppm] (STDEV)\n"
     ]
    },
    {
     "name": "stderr",
     "output_type": "stream",
     "text": [
      "/home/alex/anaconda3/envs/Pt_NMR/lib/python3.10/site-packages/sklearn/gaussian_process/_gpr.py:659: ConvergenceWarning: lbfgs failed to converge (status=2):\n",
      "ABNORMAL_TERMINATION_IN_LNSRCH.\n",
      "\n",
      "Increase the number of iterations (max_iter) or scale the data as shown in:\n",
      "    https://scikit-learn.org/stable/modules/preprocessing.html\n",
      "  _check_optimize_result(\"lbfgs\", opt_res)\n",
      "/home/alex/anaconda3/envs/Pt_NMR/lib/python3.10/site-packages/sklearn/gaussian_process/_gpr.py:659: ConvergenceWarning: lbfgs failed to converge (status=2):\n",
      "ABNORMAL_TERMINATION_IN_LNSRCH.\n",
      "\n",
      "Increase the number of iterations (max_iter) or scale the data as shown in:\n",
      "    https://scikit-learn.org/stable/modules/preprocessing.html\n",
      "  _check_optimize_result(\"lbfgs\", opt_res)\n",
      "/home/alex/anaconda3/envs/Pt_NMR/lib/python3.10/site-packages/sklearn/gaussian_process/_gpr.py:659: ConvergenceWarning: lbfgs failed to converge (status=2):\n",
      "ABNORMAL_TERMINATION_IN_LNSRCH.\n",
      "\n",
      "Increase the number of iterations (max_iter) or scale the data as shown in:\n",
      "    https://scikit-learn.org/stable/modules/preprocessing.html\n",
      "  _check_optimize_result(\"lbfgs\", opt_res)\n",
      "/home/alex/anaconda3/envs/Pt_NMR/lib/python3.10/site-packages/sklearn/gaussian_process/_gpr.py:659: ConvergenceWarning: lbfgs failed to converge (status=2):\n",
      "ABNORMAL_TERMINATION_IN_LNSRCH.\n",
      "\n",
      "Increase the number of iterations (max_iter) or scale the data as shown in:\n",
      "    https://scikit-learn.org/stable/modules/preprocessing.html\n",
      "  _check_optimize_result(\"lbfgs\", opt_res)\n"
     ]
    },
    {
     "name": "stdout",
     "output_type": "stream",
     "text": [
      "MAE (4-fold CV): 197.36472077601664 [ppm] 7.847156496950747 [ppm] (STDEV)\n"
     ]
    },
    {
     "name": "stderr",
     "output_type": "stream",
     "text": [
      "/home/alex/anaconda3/envs/Pt_NMR/lib/python3.10/site-packages/sklearn/gaussian_process/_gpr.py:659: ConvergenceWarning: lbfgs failed to converge (status=2):\n",
      "ABNORMAL_TERMINATION_IN_LNSRCH.\n",
      "\n",
      "Increase the number of iterations (max_iter) or scale the data as shown in:\n",
      "    https://scikit-learn.org/stable/modules/preprocessing.html\n",
      "  _check_optimize_result(\"lbfgs\", opt_res)\n"
     ]
    },
    {
     "data": {
      "text/plain": "<Figure size 640x480 with 1 Axes>",
      "image/png": "[encoded data removed]"
     },
     "metadata": {},
     "output_type": "display_data"
    },
    {
     "name": "stdout",
     "output_type": "stream",
     "text": [
      "(197.36472077601664, 7.847156496950747, 266.3190632429015, 7.554692116695008)\n"
     ]
    }
   ],
   "source": [
    "# Define path and column name of the csv where labels (targets) are stored\n",
    "\n",
    "target_name = 'Experimental'\n",
    "target_path = '/home/alex/Pt_NMR/data/labels/final_data_corrected'\n",
    "\n",
    "# Use predict function for regression and obtaining CV prediction errors\n",
    "\n",
    "errors_std = pt_gpr.GPR_predict(kernel_degree=2,\n",
    "                            target_path=target_path, target_name=target_name,\n",
    "                            normalize=False, noise=1.0, parity_plot=True, noise_estim=True)\n",
    "\n",
    "print(errors_std)"
   ],
   "metadata": {
    "collapsed": false,
    "ExecuteTime": {
     "end_time": "2024-08-14T20:04:40.888880272Z",
     "start_time": "2024-08-14T20:04:08.338937580Z"
    }
   }
  },
  {
   "cell_type": "markdown",
   "source": [],
   "metadata": {
    "collapsed": false
   }
  },
  {
   "cell_type": "markdown",
   "source": [],
   "metadata": {
    "collapsed": false
   }
  },
  {
   "cell_type": "code",
   "execution_count": null,
   "outputs": [],
   "source": [],
   "metadata": {
    "collapsed": false
   }
  },
  {
   "cell_type": "markdown",
   "source": [],
   "metadata": {
    "collapsed": false
   }
  },
  {
   "cell_type": "code",
   "execution_count": null,
   "outputs": [],
   "source": [],
   "metadata": {
    "collapsed": false
   }
  },
  {
   "cell_type": "code",
   "execution_count": null,
   "outputs": [],
   "source": [],
   "metadata": {
    "collapsed": false
   }
  }
 ],
 "metadata": {
  "kernelspec": {
   "display_name": "Python 3",
   "language": "python",
   "name": "python3"
  },
  "language_info": {
   "codemirror_mode": {
    "name": "ipython",
    "version": 2
   },
   "file_extension": ".py",
   "mimetype": "text/x-python",
   "name": "python",
   "nbconvert_exporter": "python",
   "pygments_lexer": "ipython2",
   "version": "2.7.6"
  }
 },
 "nbformat": 4,
 "nbformat_minor": 0
}
