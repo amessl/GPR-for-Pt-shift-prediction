{
 "cells": [
  {
   "cell_type": "code",
   "execution_count": 4,
   "metadata": {
    "collapsed": true,
    "ExecuteTime": {
     "end_time": "2024-07-18T15:05:05.895860994Z",
     "start_time": "2024-07-18T15:05:05.892742482Z"
    }
   },
   "outputs": [],
   "source": [
    "from GPR_SOAP import SOAP_GPR"
   ]
  },
  {
   "cell_type": "code",
   "execution_count": 5,
   "outputs": [],
   "source": [
    "# Define path to xyz files and path to SOAP files\n",
    "\n",
    "XYZ_directory = '/home/alex/Pt_NMR/data/structures/'\n",
    "SOAP_directory = '/home/alex/Pt_NMR/data/representations/SOAP/'\n",
    "\n",
    "# Set up SOAP_GPR class\n",
    "\n",
    "SOAP_GPR = SOAP_GPR(SOAP_parameters=[2.0, 2, 2], SOAP_directory=SOAP_directory,\n",
    "                    XYZ_directory=XYZ_directory, XYZ_base='st_', central_atom='Pt')"
   ],
   "metadata": {
    "collapsed": false,
    "ExecuteTime": {
     "end_time": "2024-07-18T15:05:07.356388975Z",
     "start_time": "2024-07-18T15:05:07.352058895Z"
    }
   }
  },
  {
   "cell_type": "code",
   "execution_count": 6,
   "outputs": [
    {
     "name": "stdout",
     "output_type": "stream",
     "text": [
      "Species present in dataset: ['F', 'Ge', 'O', 'I', 'N', 'Br', 'C', 'Te', 'Sn', 'Sb', 'H', 'P', 'As', 'Cl', 'S', 'Si', 'Se', 'Pt']\n",
      "(298, 1998)\n",
      "--------------------------------\n",
      "Cross-validated error values:\n",
      "--------------------------------\n",
      "RMSE (4-fold CV):\n",
      "192.62068761033655 [ppm]\n",
      "58.254485840789705 [ppm]  (STDEV)\n",
      "\n",
      "\n",
      "MAE (4-fold CV):\n",
      "112.27321217473667 [ppm]\n",
      "17.429657558526074 [ppm],  (STDEV)\n",
      "--------------------------------\n",
      "(112.27321217473667, 17.429657558526074, 192.62068761033655, 58.254485840789705)\n"
     ]
    }
   ],
   "source": [
    "# Define path to and name of labels\n",
    "\n",
    "target_name = 'Experimental'\n",
    "target_path = '/home/alex/Pt_NMR/data/labels/final_data_corrected'\n",
    "\n",
    "# Use predict function for regression and obtaining CV prediction errors\n",
    "\n",
    "errors_std = SOAP_GPR.predict(mode='write', regressor='GPR', kernel_degree=2, target_path=target_path,\n",
    "             target_name=target_name, alpha=1e-3, normalization=True)\n",
    "\n",
    "print(errors_std)"
   ],
   "metadata": {
    "collapsed": false,
    "ExecuteTime": {
     "end_time": "2024-07-18T15:05:09.714280128Z",
     "start_time": "2024-07-18T15:05:08.227652158Z"
    }
   }
  },
  {
   "cell_type": "code",
   "execution_count": null,
   "outputs": [],
   "source": [
    "# How to create heatmap of n_max, l_max\n",
    "import seaborn as sns\n",
    "import numpy as np\n",
    "\n",
    "nl_matrix = np.zeros((8, 8))\n",
    "\n",
    "for n_max in range(1,9):\n",
    "    for l_max in range(1,9):\n",
    "\n",
    "        SOAP_ML = SOAP_GPR(SOAP_parameters=[6.0, n_max, l_max], SOAP_directory=SOAP_directory,\n",
    "                           XYZ_directory=XYZ_directory, XYZ_base='st_', central_atom='Pt')\n",
    "\n",
    "        nl_matrix[n_max-1, l_max-1] = SOAP_ML.predict(mode='read', regressor='GPR', kernel_degree=2, target_path=target_path,\n",
    "             target_name=target_name, alpha=1e-3, normalization=True)[0]\n",
    "\n",
    "\n",
    "sns.heatmap(nl_matrix, cmap=\"hot\", annot=True, fmt=\".1f\",\n",
    "            xticklabels=['1','2','3','4','5','6','7','8'], yticklabels=['1','2','3','4','5','6','7','8'])"
   ],
   "metadata": {
    "collapsed": false
   }
  },
  {
   "cell_type": "code",
   "execution_count": null,
   "outputs": [],
   "source": [
    "# Create learning curves for r_cut dependency\n",
    "\n",
    "import matplotlib.pyplot as plt\n",
    "\n",
    "rcut_list = [2.0, 3.0, 4.0, 5.0, 6.0]\n",
    "mean_MAE_rcut_list = []\n",
    "\n",
    "for rcut in rcut_list:\n",
    "    SOAP_ML = SOAP_GPR(SOAP_parameters=[rcut, 8, 8], SOAP_directory=SOAP_directory, XYZ_directory=XYZ_directory,\n",
    "                            XYZ_base='st_', central_atom='Pt')\n",
    "\n",
    "    errors_std = SOAP_ML.predict(mode='read', regressor='GPR', kernel_degree=1, target_path=target_path,\n",
    "                target_name=target_name, alpha=10.0, normalization=False, lc=True)\n",
    "\n",
    "    print(errors_std)\n",
    "\n",
    "    mean_MAE_list = []\n",
    "\n",
    "    lc_MAE = errors_std[5]\n",
    "    train_sizes = errors_std[4]\n",
    "\n",
    "    for row in lc_MAE:\n",
    "        mean_MAE = np.mean(np.abs(row))\n",
    "        mean_MAE_list.append(mean_MAE)\n",
    "\n",
    "    print(mean_MAE_list)\n",
    "    print(train_sizes)\n",
    "    mean_MAE_rcut_list.append(mean_MAE_list)\n",
    "\n",
    "\n",
    "color_list = ['orange', 'r', 'purple', 'b', 'k']\n",
    "#color_list = ['k', 'b', 'purple', 'r', 'orange']\n",
    "\n",
    "for i, rcut in enumerate(rcut_list):\n",
    "    color = color_list[i] # Use colormap to define color\n",
    "\n",
    "    # Extract the mean MAE values and train sizes for the current rcut\n",
    "    mean_MAE_list_rcut = mean_MAE_rcut_list[i]\n",
    "    train_sizes_rcut = train_sizes\n",
    "\n",
    "    # Plot the curve\n",
    "    plt.plot(train_sizes_rcut, mean_MAE_list_rcut, color=color)\n",
    "    plt.scatter(train_sizes_rcut, mean_MAE_list_rcut, color=color, label=f'r={rcut}')\n",
    "\n",
    "# Add labels and legend\n",
    "plt.xlabel('Number of samples in training set')\n",
    "plt.ylabel('Mean Absolute Error [ppm]')\n",
    "plt.legend()\n",
    "plt.grid()\n",
    "\n",
    "plt.savefig(f'/home/alex/ML/SOAP_GPR_NMR/final_dataset/figures/degree_dependency/lc_rcut{rcut}_n{8}_l{8}_unnormalized_final.svg', format='svg', dpi=700, bbox_inches='tight')#\n",
    "plt.show()\n"
   ],
   "metadata": {
    "collapsed": false
   }
  },
  {
   "cell_type": "code",
   "execution_count": null,
   "outputs": [],
   "source": [
    "def exhaustive_search(rcut_list, nmax_list, lmax_list, alpha_list):\n",
    "\n",
    "    SOAP_directory = '/home/alex/ML/SOAP_GPR_NMR/final_dataset/SOAPs/'\n",
    "\n",
    "    XYZ_directory = '/home/alex/ML/SOAP_GPR_NMR/final_dataset/xyz_files_final_set/'\n",
    "    XYZ_base = 'st_'\n",
    "\n",
    "    target_name = 'Experimental'\n",
    "    target_path = '/home/alex/ML/SOAP_GPR_NMR/final_dataset/Pt_II_complexes_final'\n",
    "\n",
    "\n",
    "    mae_list = []\n",
    "    parameter_combination_list = []\n",
    "\n",
    "    for rcut in rcut_list:\n",
    "        for nmax in nmax_list:\n",
    "            for lmax in lmax_list:\n",
    "                    for alpha in alpha_list:\n",
    "\n",
    "\n",
    "                        try:\n",
    "\n",
    "                            SOAP_ML = SOAP_GPR(SOAP_parameters=[rcut, nmax, lmax], SOAP_directory=SOAP_directory, XYZ_directory=XYZ_directory,\n",
    "                            XYZ_base=XYZ_base, central_atom='Pt')\n",
    "\n",
    "                            errors_std = SOAP_ML.predict(mode='read', regressor='GPR', kernel_degree=5, target_path=target_path,\n",
    "                                         target_name=target_name, alpha=alpha, normalization=False)\n",
    "\n",
    "                            mae_list.append(errors_std[0])\n",
    "                            parameter_combination_list.append([rcut, nmax, lmax, alpha])\n",
    "\n",
    "                            np.savetxt(f'/home/alex/ML/SOAP_GPR_NMR/final_dataset/prediction_errors/polynomial_kernel_unnormalized/rcut{int(rcut)}_nmax{nmax}_lmax{lmax}_alpha{alpha}_degree5_unnormalized.txt', np.array(errors_std), delimiter=',')\n",
    "\n",
    "                        except Exception as e:\n",
    "                            print(e)\n",
    "                            pass\n",
    "\n",
    "    mae_parameters_combined = [sublist + [item] for sublist, item in zip(parameter_combination_list, mae_list)]\n",
    "    np.savetxt('/home/alex/ML/SOAP_GPR_NMR/final_dataset/prediction_errors/polynomial_kernel_unnormalized/mae_parameters_combined_unnormalized_degree5.txt', np.array(mae_parameters_combined), delimiter=',')\n",
    "\n",
    "    best_params, min_error = min(zip(parameter_combination_list, mae_list), key=lambda x: x[1])\n",
    "\n",
    "    print(best_params, min_error)\n",
    "\n",
    "    return best_params, min_error"
   ],
   "metadata": {
    "collapsed": false
   }
  }
 ],
 "metadata": {
  "kernelspec": {
   "display_name": "Python 3",
   "language": "python",
   "name": "python3"
  },
  "language_info": {
   "codemirror_mode": {
    "name": "ipython",
    "version": 2
   },
   "file_extension": ".py",
   "mimetype": "text/x-python",
   "name": "python",
   "nbconvert_exporter": "python",
   "pygments_lexer": "ipython2",
   "version": "2.7.6"
  }
 },
 "nbformat": 4,
 "nbformat_minor": 0
}
