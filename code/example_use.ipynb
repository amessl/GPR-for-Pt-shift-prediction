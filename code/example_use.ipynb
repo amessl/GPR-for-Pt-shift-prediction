{
 "cells": [
  {
   "cell_type": "code",
   "execution_count": 3,
   "metadata": {
    "collapsed": true,
    "ExecuteTime": {
     "end_time": "2024-08-08T13:09:36.207227255Z",
     "start_time": "2024-08-08T13:09:35.929050254Z"
    }
   },
   "outputs": [],
   "source": [
    "from NMR_predict import GPR_NMR"
   ]
  },
  {
   "cell_type": "code",
   "execution_count": 4,
   "outputs": [],
   "source": [
    "# Define path to xyz files and path to SOAP files\n",
    "\n",
    "XYZ_directory = '/home/alex/Pt_NMR/data/structures/'\n",
    "\n",
    "SOAP_directory = '/home/alex/Pt_NMR/data/representations/SOAP/'\n",
    "APE_RF_directory = '/home/alex/Pt_NMR/data/representations/APE_RF/'\n",
    "\n",
    "SOAP_params = [2.0, 3, 7] # [rcut, nmax, lmax]\n",
    "APE_RF_params = [0, 3.0, 1000] # [qmol, rcut, dim]\n",
    "# Set up SOAP_GPR class\n",
    "pt_gpr = GPR_NMR(descriptor_path=SOAP_directory, descriptor_type='APE_RF',\n",
    "                 descriptor_params=APE_RF_params, central_atom='Pt', mode ='write', xyz_path=XYZ_directory, xyz_base='st_')"
   ],
   "metadata": {
    "collapsed": false,
    "ExecuteTime": {
     "end_time": "2024-08-08T13:09:36.211911504Z",
     "start_time": "2024-08-08T13:09:36.208983895Z"
    }
   }
  },
  {
   "cell_type": "code",
   "execution_count": 8,
   "outputs": [
    {
     "name": "stdout",
     "output_type": "stream",
     "text": [
      "RMSE (4-fold CV): 241.80041099555007 [ppm] 23.98429113541213 [ppm] (STDEV)\n",
      "MAE (4-fold CV): 166.05817567567567 [ppm] 13.3553124341291 [ppm] (STDEV)\n",
      "(166.05817567567567, 13.3553124341291, 241.80041099555007, 23.98429113541213)\n"
     ]
    }
   ],
   "source": [
    "# Define path to and name of labels\n",
    "\n",
    "target_name = 'Experimental'\n",
    "target_path = '/home/alex/Pt_NMR/data/labels/final_data_corrected'\n",
    "\n",
    "# Use predict function for regression and obtaining CV prediction errors\n",
    "\n",
    "errors_std = pt_gpr.predict(regressor_type='GPR', kernel_degree=2,\n",
    "                            target_path=target_path, target_name=target_name,\n",
    "                            normalize=False, alpha=10.0)\n",
    "\n",
    "print(errors_std)"
   ],
   "metadata": {
    "collapsed": false,
    "ExecuteTime": {
     "end_time": "2024-08-08T13:12:34.620558953Z",
     "start_time": "2024-08-08T13:12:34.031049873Z"
    }
   }
  },
  {
   "cell_type": "markdown",
   "source": [],
   "metadata": {
    "collapsed": false
   }
  }
 ],
 "metadata": {
  "kernelspec": {
   "display_name": "Python 3",
   "language": "python",
   "name": "python3"
  },
  "language_info": {
   "codemirror_mode": {
    "name": "ipython",
    "version": 2
   },
   "file_extension": ".py",
   "mimetype": "text/x-python",
   "name": "python",
   "nbconvert_exporter": "python",
   "pygments_lexer": "ipython2",
   "version": "2.7.6"
  }
 },
 "nbformat": 4,
 "nbformat_minor": 0
}
