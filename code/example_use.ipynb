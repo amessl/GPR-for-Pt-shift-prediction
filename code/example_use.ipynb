{
 "cells": [
  {
   "cell_type": "code",
   "execution_count": 8,
   "metadata": {
    "collapsed": true,
    "ExecuteTime": {
     "end_time": "2024-08-13T11:52:24.410102175Z",
     "start_time": "2024-08-13T11:52:24.366172739Z"
    }
   },
   "outputs": [],
   "source": [
    "from NMR_predict import GPR_NMR"
   ]
  },
  {
   "cell_type": "code",
   "execution_count": 12,
   "outputs": [],
   "source": [
    "# Define path to xyz files and path to SOAP files\n",
    "XYZ_directory = '/home/alex/Pt_NMR/data/structures/'\n",
    "SOAP_directory = '/home/alex/Pt_NMR/data/representations/SOAP/'\n",
    "\n",
    "# Define list of SOAP params [r_cut, n_max, l_max]\n",
    "params = [2.0, 1, 10]\n",
    "\n",
    "# Create instance of GPR_NMR class\n",
    "pt_gpr = GPR_NMR(descriptor_path=SOAP_directory, descriptor_type='SOAP',\n",
    "                 descriptor_params=params, central_atom='Pt', mode ='write', xyz_path=XYZ_directory, xyz_base='st_')\n"
   ],
   "metadata": {
    "collapsed": false,
    "ExecuteTime": {
     "end_time": "2024-08-13T11:53:27.809650996Z",
     "start_time": "2024-08-13T11:53:27.767148568Z"
    }
   }
  },
  {
   "cell_type": "code",
   "execution_count": 13,
   "outputs": [
    {
     "name": "stdout",
     "output_type": "stream",
     "text": [
      "Species present in dataset: ['P', 'S', 'Cl', 'N', 'As', 'Sb', 'O', 'I', 'Se', 'Si', 'F', 'H', 'Te', 'Br', 'Sn', 'Pt', 'Ge', 'C']\n",
      "RMSE (4-fold CV): 217.53377589064817 [ppm] 45.899976196270295 [ppm] (STDEV)\n",
      "MAE (4-fold CV): 119.70423901934981 [ppm] 19.671877159762207 [ppm] (STDEV)\n",
      "(119.70423901934981, 19.671877159762207, 217.53377589064817, 45.899976196270295)\n"
     ]
    }
   ],
   "source": [
    "# Define path and column name of the csv where labels (targets) are stored\n",
    "target_name = 'Experimental'\n",
    "target_path = '/home/alex/Pt_NMR/data/labels/final_data_corrected'\n",
    "\n",
    "# Use predict function for GPR and obtaining CV prediction errors\n",
    "errors_std = pt_gpr.predict(regressor_type='GPR', kernel_degree=2,\n",
    "                            target_path=target_path, target_name=target_name,\n",
    "                            normalize=False, alpha=0.1)\n",
    "\n",
    "print(errors_std)"
   ],
   "metadata": {
    "collapsed": false,
    "ExecuteTime": {
     "end_time": "2024-08-13T11:53:29.487835541Z",
     "start_time": "2024-08-13T11:53:28.330632549Z"
    }
   }
  },
  {
   "cell_type": "code",
   "execution_count": 14,
   "outputs": [],
   "source": [
    "XYZ_directory = '/home/alex/Pt_NMR/data/structures/'\n",
    "SOAP_directory = '/home/alex/Pt_NMR/data/representations/APE_RF/'\n",
    "\n",
    "# Define list of SOAP params [r_cut, n_max, l_max]\n",
    "params = [3.0, 1000]\n",
    "\n",
    "# Create instance of GPR_NMR class\n",
    "pt_gpr = GPR_NMR(descriptor_path=SOAP_directory, descriptor_type='APE_RF',\n",
    "                 descriptor_params=params, central_atom='Pt', mode ='write', xyz_path=XYZ_directory, xyz_base='st_')"
   ],
   "metadata": {
    "collapsed": false,
    "ExecuteTime": {
     "end_time": "2024-08-13T11:54:11.762066363Z",
     "start_time": "2024-08-13T11:54:11.719096877Z"
    }
   }
  },
  {
   "cell_type": "code",
   "execution_count": 15,
   "outputs": [
    {
     "name": "stdout",
     "output_type": "stream",
     "text": [
      "RMSE (4-fold CV): 207.41602852454292 [ppm] 13.077343231011563 [ppm] (STDEV)\n",
      "MAE (4-fold CV): 147.5007397240991 [ppm] 8.124650178814962 [ppm] (STDEV)\n",
      "(147.5007397240991, 8.124650178814962, 207.41602852454292, 13.077343231011563)\n"
     ]
    }
   ],
   "source": [
    "# Define path and column name of the csv where labels (targets) are stored\n",
    "\n",
    "target_name = 'Experimental'\n",
    "target_path = '/home/alex/Pt_NMR/data/labels/final_data_corrected'\n",
    "\n",
    "# Use predict function for regression and obtaining CV prediction errors\n",
    "\n",
    "errors_std = pt_gpr.predict(regressor_type='GPR', kernel_degree=2,\n",
    "                            target_path=target_path, target_name=target_name,\n",
    "                            normalize=False, alpha=10.0)\n",
    "\n",
    "print(errors_std)"
   ],
   "metadata": {
    "collapsed": false,
    "ExecuteTime": {
     "end_time": "2024-08-13T11:54:12.722617655Z",
     "start_time": "2024-08-13T11:54:12.147756669Z"
    }
   }
  },
  {
   "cell_type": "markdown",
   "source": [],
   "metadata": {
    "collapsed": false
   }
  },
  {
   "cell_type": "markdown",
   "source": [],
   "metadata": {
    "collapsed": false
   }
  },
  {
   "cell_type": "code",
   "execution_count": null,
   "outputs": [],
   "source": [],
   "metadata": {
    "collapsed": false
   }
  },
  {
   "cell_type": "markdown",
   "source": [],
   "metadata": {
    "collapsed": false
   }
  },
  {
   "cell_type": "code",
   "execution_count": null,
   "outputs": [],
   "source": [],
   "metadata": {
    "collapsed": false
   }
  },
  {
   "cell_type": "code",
   "execution_count": null,
   "outputs": [],
   "source": [],
   "metadata": {
    "collapsed": false
   }
  }
 ],
 "metadata": {
  "kernelspec": {
   "display_name": "Python 3",
   "language": "python",
   "name": "python3"
  },
  "language_info": {
   "codemirror_mode": {
    "name": "ipython",
    "version": 2
   },
   "file_extension": ".py",
   "mimetype": "text/x-python",
   "name": "python",
   "nbconvert_exporter": "python",
   "pygments_lexer": "ipython2",
   "version": "2.7.6"
  }
 },
 "nbformat": 4,
 "nbformat_minor": 0
}
