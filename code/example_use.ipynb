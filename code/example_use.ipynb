{
 "cells": [
  {
   "cell_type": "code",
   "execution_count": 4,
   "metadata": {
    "collapsed": true,
    "ExecuteTime": {
     "end_time": "2024-08-12T17:43:15.845296471Z",
     "start_time": "2024-08-12T17:43:15.840513936Z"
    }
   },
   "outputs": [],
   "source": [
    "from NMR_predict import GPR_NMR"
   ]
  },
  {
   "cell_type": "code",
   "execution_count": 5,
   "outputs": [],
   "source": [
    "# Define path to xyz files and path to SOAP files\n",
    "\n",
    "XYZ_directory = '/home/alex/Pt_NMR/data/structures/'\n",
    "\n",
    "SOAP_directory = '/home/alex/Pt_NMR/data/representations/SOAP/'\n",
    "APE_RF_directory = '/home/alex/Pt_NMR/data/representations/APE_RF/'\n",
    "\n",
    "SOAP_params = [3.0, 2, 7] # [rcut, nmax, lmax]\n",
    "APE_RF_params = [3.0, 1000] # [rcut, dim]\n",
    "# Set up SOAP_GPR class\n",
    "pt_gpr = GPR_NMR(descriptor_path=APE_RF_directory, descriptor_type='APE_RF',\n",
    "                 descriptor_params=APE_RF_params, central_atom='Pt', mode ='read', xyz_path=XYZ_directory, xyz_base='st_')"
   ],
   "metadata": {
    "collapsed": false,
    "ExecuteTime": {
     "end_time": "2024-08-12T17:43:16.194223460Z",
     "start_time": "2024-08-12T17:43:16.192064906Z"
    }
   }
  },
  {
   "cell_type": "code",
   "execution_count": 6,
   "outputs": [
    {
     "name": "stdout",
     "output_type": "stream",
     "text": [
      "Descriptor files read: 298 \n",
      "Average size: 7.938 kB\n",
      "RMSE (4-fold CV): 207.41602852454292 [ppm] 13.077343231011563 [ppm] (STDEV)\n",
      "MAE (4-fold CV): 147.5007397240991 [ppm] 8.124650178814962 [ppm] (STDEV)\n",
      "(147.5007397240991, 8.124650178814962, 207.41602852454292, 13.077343231011563)\n"
     ]
    }
   ],
   "source": [
    "# Define path to and name of labels\n",
    "\n",
    "target_name = 'Experimental'\n",
    "target_path = '/home/alex/Pt_NMR/data/labels/final_data_corrected'\n",
    "\n",
    "# Use predict function for regression and obtaining CV prediction errors\n",
    "\n",
    "errors_std = pt_gpr.predict(regressor_type='GPR', kernel_degree=2,\n",
    "                            target_path=target_path, target_name=target_name,\n",
    "                            normalize=False, alpha=10.0)\n",
    "\n",
    "print(errors_std)"
   ],
   "metadata": {
    "collapsed": false,
    "ExecuteTime": {
     "end_time": "2024-08-12T17:43:17.427827011Z",
     "start_time": "2024-08-12T17:43:16.591927438Z"
    }
   }
  },
  {
   "cell_type": "markdown",
   "source": [],
   "metadata": {
    "collapsed": false
   }
  },
  {
   "cell_type": "markdown",
   "source": [],
   "metadata": {
    "collapsed": false
   }
  },
  {
   "cell_type": "code",
   "execution_count": null,
   "outputs": [],
   "source": [],
   "metadata": {
    "collapsed": false
   }
  },
  {
   "cell_type": "markdown",
   "source": [],
   "metadata": {
    "collapsed": false
   }
  },
  {
   "cell_type": "code",
   "execution_count": null,
   "outputs": [],
   "source": [],
   "metadata": {
    "collapsed": false
   }
  },
  {
   "cell_type": "code",
   "execution_count": null,
   "outputs": [],
   "source": [],
   "metadata": {
    "collapsed": false
   }
  }
 ],
 "metadata": {
  "kernelspec": {
   "display_name": "Python 3",
   "language": "python",
   "name": "python3"
  },
  "language_info": {
   "codemirror_mode": {
    "name": "ipython",
    "version": 2
   },
   "file_extension": ".py",
   "mimetype": "text/x-python",
   "name": "python",
   "nbconvert_exporter": "python",
   "pygments_lexer": "ipython2",
   "version": "2.7.6"
  }
 },
 "nbformat": 4,
 "nbformat_minor": 0
}
